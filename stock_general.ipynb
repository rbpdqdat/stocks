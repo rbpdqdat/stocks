{
 "cells": [
  {
   "cell_type": "code",
   "execution_count": 1,
   "metadata": {
    "collapsed": false,
    "deletable": true,
    "editable": true
   },
   "outputs": [
    {
     "name": "stdout",
     "output_type": "stream",
     "text": [
      "47.25\n"
     ]
    }
   ],
   "source": [
    "import pandas as pd\n",
    "import matplotlib.pyplot as plt\n",
    "import datetime as dt\n",
    "import numpy as np\n",
    "from datetime import datetime\n",
    "from yahoo_finance import Share\n",
    "%matplotlib inline\n",
    "\n",
    "stock = Share('YHOO')\n",
    "print(stock.get_open())"
   ]
  },
  {
   "cell_type": "code",
   "execution_count": 2,
   "metadata": {
    "collapsed": false,
    "deletable": true,
    "editable": true
   },
   "outputs": [
    {
     "name": "stdout",
     "output_type": "stream",
     "text": [
      "47.67\n"
     ]
    }
   ],
   "source": [
    "print(stock.get_price())"
   ]
  },
  {
   "cell_type": "code",
   "execution_count": 3,
   "metadata": {
    "collapsed": false,
    "deletable": true,
    "editable": true
   },
   "outputs": [
    {
     "name": "stdout",
     "output_type": "stream",
     "text": [
      "2017-04-20 20:00:00 UTC+0000\n"
     ]
    }
   ],
   "source": [
    "print(stock.get_trade_datetime())"
   ]
  },
  {
   "cell_type": "code",
   "execution_count": 4,
   "metadata": {
    "collapsed": false,
    "deletable": true,
    "editable": true
   },
   "outputs": [
    {
     "data": {
      "text/plain": [
       "\"[{u'Volume': u'28720000', u'Symbol': u'YHOO',\\n  u'Adj_Close': u'35.83', u'High': u'35.89',\\n  u'Low': u'34.12', u'Date': u'2014-04-29',\\n  u'Close': u'35.83', u'Open': u'34.37'},\\n {u'Volume': u'30422000', u'Symbol': u'YHOO', \\n  u'Adj_Close': u'33.99', u'High': u'35.00', \\n  u'Low': u'33.65', u'Date': u'2014-04-28', \\n  u'Close': u'33.99', u'Open': u'34.67'}, \\n {u'Volume': u'19391100', u'Symbol': u'YHOO',\\n  u'Adj_Close': u'34.48', u'High': u'35.10',\\n  u'Low': u'34.29', u'Date': u'2014-04-25',\\nu'Close': u'34.48', u'Open': u'35.03'}]\""
      ]
     },
     "execution_count": 4,
     "metadata": {},
     "output_type": "execute_result"
    }
   ],
   "source": [
    "stock_hist = pd.DataFrame(stock.get_historical('2014-04-01', '2017-01-31'))\n",
    "'''[{u'Volume': u'28720000', u'Symbol': u'YHOO',\n",
    "  u'Adj_Close': u'35.83', u'High': u'35.89',\n",
    "  u'Low': u'34.12', u'Date': u'2014-04-29',\n",
    "  u'Close': u'35.83', u'Open': u'34.37'},\n",
    " {u'Volume': u'30422000', u'Symbol': u'YHOO', \n",
    "  u'Adj_Close': u'33.99', u'High': u'35.00', \n",
    "  u'Low': u'33.65', u'Date': u'2014-04-28', \n",
    "  u'Close': u'33.99', u'Open': u'34.67'}, \n",
    " {u'Volume': u'19391100', u'Symbol': u'YHOO',\n",
    "  u'Adj_Close': u'34.48', u'High': u'35.10',\n",
    "  u'Low': u'34.29', u'Date': u'2014-04-25',\n",
    "u'Close': u'34.48', u'Open': u'35.03'}]'''"
   ]
  },
  {
   "cell_type": "code",
   "execution_count": 5,
   "metadata": {
    "collapsed": false,
    "deletable": true,
    "editable": true
   },
   "outputs": [],
   "source": [
    "stock_hist['Date'] = stock_hist['Date'].astype(datetime)\n",
    "stock_hist['Close'] = stock_hist['Close'].astype(float)\n",
    "stock_hist['Open'] = stock_hist['Open'].astype(float)"
   ]
  },
  {
   "cell_type": "code",
   "execution_count": 6,
   "metadata": {
    "collapsed": false,
    "deletable": true,
    "editable": true
   },
   "outputs": [
    {
     "data": {
      "text/html": [
       "<div>\n",
       "<table border=\"1\" class=\"dataframe\">\n",
       "  <thead>\n",
       "    <tr style=\"text-align: right;\">\n",
       "      <th></th>\n",
       "      <th>Adj_Close</th>\n",
       "      <th>Close</th>\n",
       "      <th>Date</th>\n",
       "      <th>High</th>\n",
       "      <th>Low</th>\n",
       "      <th>Open</th>\n",
       "      <th>Symbol</th>\n",
       "      <th>Volume</th>\n",
       "    </tr>\n",
       "  </thead>\n",
       "  <tbody>\n",
       "    <tr>\n",
       "      <th>0</th>\n",
       "      <td>44.07</td>\n",
       "      <td>44.070000</td>\n",
       "      <td>2017-01-31</td>\n",
       "      <td>44.150002</td>\n",
       "      <td>43.669998</td>\n",
       "      <td>43.779999</td>\n",
       "      <td>YHOO</td>\n",
       "      <td>5153500</td>\n",
       "    </tr>\n",
       "    <tr>\n",
       "      <th>1</th>\n",
       "      <td>43.93</td>\n",
       "      <td>43.930000</td>\n",
       "      <td>2017-01-30</td>\n",
       "      <td>44.220001</td>\n",
       "      <td>43.709999</td>\n",
       "      <td>44.220001</td>\n",
       "      <td>YHOO</td>\n",
       "      <td>6903900</td>\n",
       "    </tr>\n",
       "    <tr>\n",
       "      <th>2</th>\n",
       "      <td>44.419998</td>\n",
       "      <td>44.419998</td>\n",
       "      <td>2017-01-27</td>\n",
       "      <td>44.709999</td>\n",
       "      <td>44.23</td>\n",
       "      <td>44.540001</td>\n",
       "      <td>YHOO</td>\n",
       "      <td>4942800</td>\n",
       "    </tr>\n",
       "    <tr>\n",
       "      <th>3</th>\n",
       "      <td>44.549999</td>\n",
       "      <td>44.549999</td>\n",
       "      <td>2017-01-26</td>\n",
       "      <td>45.080002</td>\n",
       "      <td>44.400002</td>\n",
       "      <td>44.830002</td>\n",
       "      <td>YHOO</td>\n",
       "      <td>9972700</td>\n",
       "    </tr>\n",
       "    <tr>\n",
       "      <th>4</th>\n",
       "      <td>44.939999</td>\n",
       "      <td>44.939999</td>\n",
       "      <td>2017-01-25</td>\n",
       "      <td>45.00</td>\n",
       "      <td>44.09</td>\n",
       "      <td>44.110001</td>\n",
       "      <td>YHOO</td>\n",
       "      <td>11082400</td>\n",
       "    </tr>\n",
       "  </tbody>\n",
       "</table>\n",
       "</div>"
      ],
      "text/plain": [
       "   Adj_Close      Close        Date       High        Low       Open Symbol  \\\n",
       "0      44.07  44.070000  2017-01-31  44.150002  43.669998  43.779999   YHOO   \n",
       "1      43.93  43.930000  2017-01-30  44.220001  43.709999  44.220001   YHOO   \n",
       "2  44.419998  44.419998  2017-01-27  44.709999      44.23  44.540001   YHOO   \n",
       "3  44.549999  44.549999  2017-01-26  45.080002  44.400002  44.830002   YHOO   \n",
       "4  44.939999  44.939999  2017-01-25      45.00      44.09  44.110001   YHOO   \n",
       "\n",
       "     Volume  \n",
       "0   5153500  \n",
       "1   6903900  \n",
       "2   4942800  \n",
       "3   9972700  \n",
       "4  11082400  "
      ]
     },
     "execution_count": 6,
     "metadata": {},
     "output_type": "execute_result"
    }
   ],
   "source": [
    "stock_hist.head()"
   ]
  },
  {
   "cell_type": "markdown",
   "metadata": {
    "deletable": true,
    "editable": true
   },
   "source": [
    "## Project Scope\n",
    "\n",
    "The beginning of this project will aim to investigate at the difference between the previous day's close and the following day's open.  Then a predictive algorithm will predict whether the stock price will be lower or higher.  \n",
    "\n",
    "This will be a basic categorical approach to stock price prediction.\n",
    "\n",
    "#### Additional Work\n",
    "\n",
    "Secondary work will include magnitude of changes, ensemble approaches, and possibly principal component analysis to produce more accurate results."
   ]
  },
  {
   "cell_type": "code",
   "execution_count": 7,
   "metadata": {
    "collapsed": false,
    "deletable": true,
    "editable": true
   },
   "outputs": [],
   "source": [
    "#stock_hist.plot.line(x='Date',y='Close')\n",
    "#plt.xticks(rotation=90)"
   ]
  },
  {
   "cell_type": "code",
   "execution_count": 8,
   "metadata": {
    "collapsed": false,
    "deletable": true,
    "editable": true
   },
   "outputs": [],
   "source": [
    "#stock.get_percent_change_from_200_day_moving_average()"
   ]
  },
  {
   "cell_type": "code",
   "execution_count": 9,
   "metadata": {
    "collapsed": false,
    "deletable": true,
    "editable": true
   },
   "outputs": [],
   "source": [
    "#stock.get_year_range()"
   ]
  },
  {
   "cell_type": "code",
   "execution_count": 10,
   "metadata": {
    "collapsed": false,
    "deletable": true,
    "editable": true
   },
   "outputs": [],
   "source": [
    "#Create new column with previous close data to easily\n",
    "#calculate difference between open and close\n",
    "stock_hist['prevClose'] = stock_hist['Close'].shift(1)\n",
    "stock_hist['CloseCategory'] = np.where((stock_hist['Open'] - stock_hist['Close']) >= 0, 'POS','NEG')\n",
    "stock_hist['OpenCloseDiff'] = stock_hist['Open']-stock_hist['Close']"
   ]
  },
  {
   "cell_type": "code",
   "execution_count": 11,
   "metadata": {
    "collapsed": false,
    "deletable": true,
    "editable": true
   },
   "outputs": [],
   "source": [
    "stock_hist['openDiff'] = stock_hist['Open']-stock_hist['prevClose']"
   ]
  },
  {
   "cell_type": "code",
   "execution_count": 12,
   "metadata": {
    "collapsed": false,
    "deletable": true,
    "editable": true
   },
   "outputs": [],
   "source": [
    "#create a categorical output\n",
    " # openCategory\n",
    " # prevCloseCategory\n",
    "stock_hist['openCategory'] = np.where(stock_hist['openDiff'] >= 0, 'POS','NEG')\n"
   ]
  },
  {
   "cell_type": "code",
   "execution_count": 13,
   "metadata": {
    "collapsed": false,
    "deletable": true,
    "editable": true
   },
   "outputs": [
    {
     "data": {
      "text/html": [
       "<div>\n",
       "<table border=\"1\" class=\"dataframe\">\n",
       "  <thead>\n",
       "    <tr style=\"text-align: right;\">\n",
       "      <th></th>\n",
       "      <th>Adj_Close</th>\n",
       "      <th>Close</th>\n",
       "      <th>Date</th>\n",
       "      <th>High</th>\n",
       "      <th>Low</th>\n",
       "      <th>Open</th>\n",
       "      <th>Symbol</th>\n",
       "      <th>Volume</th>\n",
       "      <th>prevClose</th>\n",
       "      <th>CloseCategory</th>\n",
       "      <th>OpenCloseDiff</th>\n",
       "      <th>openDiff</th>\n",
       "      <th>openCategory</th>\n",
       "    </tr>\n",
       "  </thead>\n",
       "  <tbody>\n",
       "    <tr>\n",
       "      <th>0</th>\n",
       "      <td>44.07</td>\n",
       "      <td>44.070000</td>\n",
       "      <td>2017-01-31</td>\n",
       "      <td>44.150002</td>\n",
       "      <td>43.669998</td>\n",
       "      <td>43.779999</td>\n",
       "      <td>YHOO</td>\n",
       "      <td>5153500</td>\n",
       "      <td>NaN</td>\n",
       "      <td>NEG</td>\n",
       "      <td>-0.290001</td>\n",
       "      <td>NaN</td>\n",
       "      <td>NEG</td>\n",
       "    </tr>\n",
       "    <tr>\n",
       "      <th>1</th>\n",
       "      <td>43.93</td>\n",
       "      <td>43.930000</td>\n",
       "      <td>2017-01-30</td>\n",
       "      <td>44.220001</td>\n",
       "      <td>43.709999</td>\n",
       "      <td>44.220001</td>\n",
       "      <td>YHOO</td>\n",
       "      <td>6903900</td>\n",
       "      <td>44.070000</td>\n",
       "      <td>POS</td>\n",
       "      <td>0.290001</td>\n",
       "      <td>0.150001</td>\n",
       "      <td>POS</td>\n",
       "    </tr>\n",
       "    <tr>\n",
       "      <th>2</th>\n",
       "      <td>44.419998</td>\n",
       "      <td>44.419998</td>\n",
       "      <td>2017-01-27</td>\n",
       "      <td>44.709999</td>\n",
       "      <td>44.23</td>\n",
       "      <td>44.540001</td>\n",
       "      <td>YHOO</td>\n",
       "      <td>4942800</td>\n",
       "      <td>43.930000</td>\n",
       "      <td>POS</td>\n",
       "      <td>0.120003</td>\n",
       "      <td>0.610001</td>\n",
       "      <td>POS</td>\n",
       "    </tr>\n",
       "    <tr>\n",
       "      <th>3</th>\n",
       "      <td>44.549999</td>\n",
       "      <td>44.549999</td>\n",
       "      <td>2017-01-26</td>\n",
       "      <td>45.080002</td>\n",
       "      <td>44.400002</td>\n",
       "      <td>44.830002</td>\n",
       "      <td>YHOO</td>\n",
       "      <td>9972700</td>\n",
       "      <td>44.419998</td>\n",
       "      <td>POS</td>\n",
       "      <td>0.280003</td>\n",
       "      <td>0.410004</td>\n",
       "      <td>POS</td>\n",
       "    </tr>\n",
       "    <tr>\n",
       "      <th>4</th>\n",
       "      <td>44.939999</td>\n",
       "      <td>44.939999</td>\n",
       "      <td>2017-01-25</td>\n",
       "      <td>45.00</td>\n",
       "      <td>44.09</td>\n",
       "      <td>44.110001</td>\n",
       "      <td>YHOO</td>\n",
       "      <td>11082400</td>\n",
       "      <td>44.549999</td>\n",
       "      <td>NEG</td>\n",
       "      <td>-0.829998</td>\n",
       "      <td>-0.439998</td>\n",
       "      <td>NEG</td>\n",
       "    </tr>\n",
       "  </tbody>\n",
       "</table>\n",
       "</div>"
      ],
      "text/plain": [
       "   Adj_Close      Close        Date       High        Low       Open Symbol  \\\n",
       "0      44.07  44.070000  2017-01-31  44.150002  43.669998  43.779999   YHOO   \n",
       "1      43.93  43.930000  2017-01-30  44.220001  43.709999  44.220001   YHOO   \n",
       "2  44.419998  44.419998  2017-01-27  44.709999      44.23  44.540001   YHOO   \n",
       "3  44.549999  44.549999  2017-01-26  45.080002  44.400002  44.830002   YHOO   \n",
       "4  44.939999  44.939999  2017-01-25      45.00      44.09  44.110001   YHOO   \n",
       "\n",
       "     Volume  prevClose CloseCategory  OpenCloseDiff  openDiff openCategory  \n",
       "0   5153500        NaN           NEG      -0.290001       NaN          NEG  \n",
       "1   6903900  44.070000           POS       0.290001  0.150001          POS  \n",
       "2   4942800  43.930000           POS       0.120003  0.610001          POS  \n",
       "3   9972700  44.419998           POS       0.280003  0.410004          POS  \n",
       "4  11082400  44.549999           NEG      -0.829998 -0.439998          NEG  "
      ]
     },
     "execution_count": 13,
     "metadata": {},
     "output_type": "execute_result"
    }
   ],
   "source": [
    "stock_hist.head()"
   ]
  },
  {
   "cell_type": "code",
   "execution_count": 29,
   "metadata": {
    "collapsed": false,
    "deletable": true,
    "editable": true
   },
   "outputs": [
    {
     "name": "stdout",
     "output_type": "stream",
     "text": [
      "                            OLS Regression Results                            \n",
      "==============================================================================\n",
      "Dep. Variable:               openDiff   R-squared:                       0.433\n",
      "Model:                            OLS   Adj. R-squared:                  0.433\n",
      "Method:                 Least Squares   F-statistic:                     544.7\n",
      "Date:                Fri, 21 Apr 2017   Prob (F-statistic):           6.47e-90\n",
      "Time:                        08:40:30   Log-Likelihood:                -772.81\n",
      "No. Observations:                 714   AIC:                             1550.\n",
      "Df Residuals:                     712   BIC:                             1559.\n",
      "Df Model:                           1                                         \n",
      "Covariance Type:            nonrobust                                         \n",
      "=================================================================================\n",
      "                    coef    std err          t      P>|t|      [0.025      0.975]\n",
      "---------------------------------------------------------------------------------\n",
      "Intercept        -0.0108      0.027     -0.404      0.686      -0.063       0.042\n",
      "OpenCloseDiff     1.0327      0.044     23.339      0.000       0.946       1.120\n",
      "==============================================================================\n",
      "Omnibus:                       36.676   Durbin-Watson:                   1.998\n",
      "Prob(Omnibus):                  0.000   Jarque-Bera (JB):               79.929\n",
      "Skew:                           0.290   Prob(JB):                     4.40e-18\n",
      "Kurtosis:                       4.533   Cond. No.                         1.65\n",
      "==============================================================================\n",
      "\n",
      "Warnings:\n",
      "[1] Standard Errors assume that the covariance matrix of the errors is correctly specified.\n"
     ]
    }
   ],
   "source": [
    "from __future__ import print_function\n",
    "import statsmodels.api as sm\n",
    "from patsy import dmatrices\n",
    "\n",
    "y, X = dmatrices('openDiff ~ OpenCloseDiff', data=stock_hist, return_type='dataframe')\n",
    "\n",
    "model = sm.OLS(y, X)\n",
    "results = model.fit()\n",
    "print(results.summary())"
   ]
  },
  {
   "cell_type": "code",
   "execution_count": 30,
   "metadata": {
    "collapsed": false
   },
   "outputs": [
    {
     "data": {
      "text/plain": [
       "[<matplotlib.lines.Line2D at 0x7ffab1486908>]"
      ]
     },
     "execution_count": 30,
     "metadata": {},
     "output_type": "execute_result"
    },
    {
     "data": {
      "image/png": "[encoded data removed]",
      "text/plain": [
       "<matplotlib.figure.Figure at 0x7ffab16ee4a8>"
      ]
     },
     "metadata": {},
     "output_type": "display_data"
    }
   ],
   "source": [
    "import matplotlib\n",
    "%matplotlib inline  \n",
    "\n",
    "fig, ax = plt.subplots()\n",
    "ax.scatter(stock_hist['OpenCloseDiff'], stock_hist['openDiff'])\n",
    "\n",
    "x_0 = stock_hist['OpenCloseDiff'].min()\n",
    "y_0 = stock_hist['openDiff'].min()\n",
    "x_1 = stock_hist['OpenCloseDiff'].max()\n",
    "y_1 = 1.0327 * (x_1 - x_0) - 0.0108\n",
    "\n",
    "# Draw these two points with big triangles to make it clear\n",
    "# where they lie\n",
    "ax.scatter([x_0, x_1], [y_0, y_1], marker='^', s=150, c='r')\n",
    "\n",
    "# And now connect them\n",
    "ax.plot([x_0, x_1], [y_0, y_1], c='r')    \n"
   ]
  },
  {
   "cell_type": "code",
   "execution_count": null,
   "metadata": {
    "collapsed": true
   },
   "outputs": [],
   "source": []
  }
 ],
 "metadata": {
  "kernelspec": {
   "display_name": "Python 3",
   "language": "python",
   "name": "python3"
  },
  "language_info": {
   "codemirror_mode": {
    "name": "ipython",
    "version": 3
   },
   "file_extension": ".py",
   "mimetype": "text/x-python",
   "name": "python",
   "nbconvert_exporter": "python",
   "pygments_lexer": "ipython3",
   "version": "3.5.3"
  }
 },
 "nbformat": 4,
 "nbformat_minor": 2
}
