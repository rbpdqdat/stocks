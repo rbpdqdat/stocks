{
 "cells": [
  {
   "cell_type": "code",
   "execution_count": 11,
   "metadata": {
    "collapsed": false,
    "deletable": true,
    "editable": true
   },
   "outputs": [
    {
     "name": "stdout",
     "output_type": "stream",
     "text": [
      "46.41\n"
     ]
    }
   ],
   "source": [
    "import pandas as pd\n",
    "import matplotlib.pyplot as plt\n",
    "import datetime as dt\n",
    "from datetime import datetime\n",
    "from yahoo_finance import Share\n",
    "%matplotlib inline\n",
    "\n",
    "stock = Share('YHOO')\n",
    "print(stock.get_open())"
   ]
  },
  {
   "cell_type": "code",
   "execution_count": 12,
   "metadata": {
    "collapsed": false,
    "deletable": true,
    "editable": true
   },
   "outputs": [
    {
     "name": "stdout",
     "output_type": "stream",
     "text": [
      "46.76\n"
     ]
    }
   ],
   "source": [
    "print(stock.get_price())"
   ]
  },
  {
   "cell_type": "code",
   "execution_count": 13,
   "metadata": {
    "collapsed": false,
    "deletable": true,
    "editable": true
   },
   "outputs": [
    {
     "name": "stdout",
     "output_type": "stream",
     "text": [
      "2017-04-05 17:08:00 UTC+0000\n"
     ]
    }
   ],
   "source": [
    "print(stock.get_trade_datetime())"
   ]
  },
  {
   "cell_type": "code",
   "execution_count": 14,
   "metadata": {
    "collapsed": false,
    "deletable": true,
    "editable": true
   },
   "outputs": [
    {
     "data": {
      "text/plain": [
       "\"[{u'Volume': u'28720000', u'Symbol': u'YHOO',\\n  u'Adj_Close': u'35.83', u'High': u'35.89',\\n  u'Low': u'34.12', u'Date': u'2014-04-29',\\n  u'Close': u'35.83', u'Open': u'34.37'},\\n {u'Volume': u'30422000', u'Symbol': u'YHOO', \\n  u'Adj_Close': u'33.99', u'High': u'35.00', \\n  u'Low': u'33.65', u'Date': u'2014-04-28', \\n  u'Close': u'33.99', u'Open': u'34.67'}, \\n {u'Volume': u'19391100', u'Symbol': u'YHOO',\\n  u'Adj_Close': u'34.48', u'High': u'35.10',\\n  u'Low': u'34.29', u'Date': u'2014-04-25',\\nu'Close': u'34.48', u'Open': u'35.03'}]\""
      ]
     },
     "execution_count": 14,
     "metadata": {},
     "output_type": "execute_result"
    }
   ],
   "source": [
    "stock_hist = pd.DataFrame(stock.get_historical('2014-04-01', '2017-01-31'))\n",
    "'''[{u'Volume': u'28720000', u'Symbol': u'YHOO',\n",
    "  u'Adj_Close': u'35.83', u'High': u'35.89',\n",
    "  u'Low': u'34.12', u'Date': u'2014-04-29',\n",
    "  u'Close': u'35.83', u'Open': u'34.37'},\n",
    " {u'Volume': u'30422000', u'Symbol': u'YHOO', \n",
    "  u'Adj_Close': u'33.99', u'High': u'35.00', \n",
    "  u'Low': u'33.65', u'Date': u'2014-04-28', \n",
    "  u'Close': u'33.99', u'Open': u'34.67'}, \n",
    " {u'Volume': u'19391100', u'Symbol': u'YHOO',\n",
    "  u'Adj_Close': u'34.48', u'High': u'35.10',\n",
    "  u'Low': u'34.29', u'Date': u'2014-04-25',\n",
    "u'Close': u'34.48', u'Open': u'35.03'}]'''"
   ]
  },
  {
   "cell_type": "code",
   "execution_count": 22,
   "metadata": {
    "collapsed": false,
    "deletable": true,
    "editable": true
   },
   "outputs": [],
   "source": [
    "stock_hist['Date'] = stock_hist['Date'].astype(datetime)\n",
    "stock_hist['Close'] = stock_hist['Close'].astype(float)\n",
    "stock_hist['Open'] = stock_hist['Open'].astype(float)"
   ]
  },
  {
   "cell_type": "code",
   "execution_count": 23,
   "metadata": {
    "collapsed": false,
    "deletable": true,
    "editable": true
   },
   "outputs": [
    {
     "data": {
      "text/html": [
       "<div>\n",
       "<table border=\"1\" class=\"dataframe\">\n",
       "  <thead>\n",
       "    <tr style=\"text-align: right;\">\n",
       "      <th></th>\n",
       "      <th>Adj_Close</th>\n",
       "      <th>Close</th>\n",
       "      <th>Date</th>\n",
       "      <th>High</th>\n",
       "      <th>Low</th>\n",
       "      <th>Open</th>\n",
       "      <th>Symbol</th>\n",
       "      <th>Volume</th>\n",
       "      <th>prevClose</th>\n",
       "    </tr>\n",
       "  </thead>\n",
       "  <tbody>\n",
       "    <tr>\n",
       "      <th>0</th>\n",
       "      <td>44.07</td>\n",
       "      <td>44.070000</td>\n",
       "      <td>2017-01-31</td>\n",
       "      <td>44.150002</td>\n",
       "      <td>43.669998</td>\n",
       "      <td>43.779999</td>\n",
       "      <td>YHOO</td>\n",
       "      <td>5153500</td>\n",
       "      <td>NaN</td>\n",
       "    </tr>\n",
       "    <tr>\n",
       "      <th>1</th>\n",
       "      <td>43.93</td>\n",
       "      <td>43.930000</td>\n",
       "      <td>2017-01-30</td>\n",
       "      <td>44.220001</td>\n",
       "      <td>43.709999</td>\n",
       "      <td>44.220001</td>\n",
       "      <td>YHOO</td>\n",
       "      <td>6903900</td>\n",
       "      <td>44.070000</td>\n",
       "    </tr>\n",
       "    <tr>\n",
       "      <th>2</th>\n",
       "      <td>44.419998</td>\n",
       "      <td>44.419998</td>\n",
       "      <td>2017-01-27</td>\n",
       "      <td>44.709999</td>\n",
       "      <td>44.23</td>\n",
       "      <td>44.540001</td>\n",
       "      <td>YHOO</td>\n",
       "      <td>4942800</td>\n",
       "      <td>43.930000</td>\n",
       "    </tr>\n",
       "    <tr>\n",
       "      <th>3</th>\n",
       "      <td>44.549999</td>\n",
       "      <td>44.549999</td>\n",
       "      <td>2017-01-26</td>\n",
       "      <td>45.080002</td>\n",
       "      <td>44.400002</td>\n",
       "      <td>44.830002</td>\n",
       "      <td>YHOO</td>\n",
       "      <td>9972700</td>\n",
       "      <td>44.419998</td>\n",
       "    </tr>\n",
       "    <tr>\n",
       "      <th>4</th>\n",
       "      <td>44.939999</td>\n",
       "      <td>44.939999</td>\n",
       "      <td>2017-01-25</td>\n",
       "      <td>45.00</td>\n",
       "      <td>44.09</td>\n",
       "      <td>44.110001</td>\n",
       "      <td>YHOO</td>\n",
       "      <td>11082400</td>\n",
       "      <td>44.549999</td>\n",
       "    </tr>\n",
       "  </tbody>\n",
       "</table>\n",
       "</div>"
      ],
      "text/plain": [
       "   Adj_Close      Close        Date       High        Low       Open Symbol  \\\n",
       "0      44.07  44.070000  2017-01-31  44.150002  43.669998  43.779999   YHOO   \n",
       "1      43.93  43.930000  2017-01-30  44.220001  43.709999  44.220001   YHOO   \n",
       "2  44.419998  44.419998  2017-01-27  44.709999      44.23  44.540001   YHOO   \n",
       "3  44.549999  44.549999  2017-01-26  45.080002  44.400002  44.830002   YHOO   \n",
       "4  44.939999  44.939999  2017-01-25      45.00      44.09  44.110001   YHOO   \n",
       "\n",
       "     Volume  prevClose  \n",
       "0   5153500        NaN  \n",
       "1   6903900  44.070000  \n",
       "2   4942800  43.930000  \n",
       "3   9972700  44.419998  \n",
       "4  11082400  44.549999  "
      ]
     },
     "execution_count": 23,
     "metadata": {},
     "output_type": "execute_result"
    }
   ],
   "source": [
    "stock_hist.head()"
   ]
  },
  {
   "cell_type": "markdown",
   "metadata": {},
   "source": [
    "## Project Scope\n",
    "\n",
    "The beginning of this project will aim to investigate at the difference between the previous day's close and the following day's open.  Then a predictive algorithm will predict whether the stock price will be lower or higher.  \n",
    "\n",
    "This will be a basic categorical approach to stock price prediction.\n",
    "\n",
    "#### Additional Work\n",
    "\n",
    "Secondary work will include magnitude of changes, ensemble approaches, and possibly principal component analysis to produce more accurate results."
   ]
  },
  {
   "cell_type": "code",
   "execution_count": 24,
   "metadata": {
    "collapsed": false,
    "deletable": true,
    "editable": true
   },
   "outputs": [],
   "source": [
    "#stock_hist.plot.line(x='Date',y='Close')\n",
    "#plt.xticks(rotation=90)"
   ]
  },
  {
   "cell_type": "code",
   "execution_count": 25,
   "metadata": {
    "collapsed": false,
    "deletable": true,
    "editable": true
   },
   "outputs": [],
   "source": [
    "#stock.get_percent_change_from_200_day_moving_average()"
   ]
  },
  {
   "cell_type": "code",
   "execution_count": 26,
   "metadata": {
    "collapsed": false,
    "deletable": true,
    "editable": true
   },
   "outputs": [],
   "source": [
    "#stock.get_year_range()"
   ]
  },
  {
   "cell_type": "code",
   "execution_count": 27,
   "metadata": {
    "collapsed": false
   },
   "outputs": [],
   "source": [
    "stock_hist['prevClose'] = stock_hist['Close'].shift(1)"
   ]
  },
  {
   "cell_type": "code",
   "execution_count": 28,
   "metadata": {
    "collapsed": false,
    "deletable": true,
    "editable": true
   },
   "outputs": [],
   "source": [
    "stock_hist['openDiff'] = stock_hist['Open']-stock_hist['prevClose']"
   ]
  },
  {
   "cell_type": "code",
   "execution_count": 29,
   "metadata": {
    "collapsed": false
   },
   "outputs": [
    {
     "data": {
      "text/html": [
       "<div>\n",
       "<table border=\"1\" class=\"dataframe\">\n",
       "  <thead>\n",
       "    <tr style=\"text-align: right;\">\n",
       "      <th></th>\n",
       "      <th>Adj_Close</th>\n",
       "      <th>Close</th>\n",
       "      <th>Date</th>\n",
       "      <th>High</th>\n",
       "      <th>Low</th>\n",
       "      <th>Open</th>\n",
       "      <th>Symbol</th>\n",
       "      <th>Volume</th>\n",
       "      <th>prevClose</th>\n",
       "      <th>openDiff</th>\n",
       "    </tr>\n",
       "  </thead>\n",
       "  <tbody>\n",
       "    <tr>\n",
       "      <th>0</th>\n",
       "      <td>44.07</td>\n",
       "      <td>44.070000</td>\n",
       "      <td>2017-01-31</td>\n",
       "      <td>44.150002</td>\n",
       "      <td>43.669998</td>\n",
       "      <td>43.779999</td>\n",
       "      <td>YHOO</td>\n",
       "      <td>5153500</td>\n",
       "      <td>NaN</td>\n",
       "      <td>NaN</td>\n",
       "    </tr>\n",
       "    <tr>\n",
       "      <th>1</th>\n",
       "      <td>43.93</td>\n",
       "      <td>43.930000</td>\n",
       "      <td>2017-01-30</td>\n",
       "      <td>44.220001</td>\n",
       "      <td>43.709999</td>\n",
       "      <td>44.220001</td>\n",
       "      <td>YHOO</td>\n",
       "      <td>6903900</td>\n",
       "      <td>44.070000</td>\n",
       "      <td>0.150001</td>\n",
       "    </tr>\n",
       "    <tr>\n",
       "      <th>2</th>\n",
       "      <td>44.419998</td>\n",
       "      <td>44.419998</td>\n",
       "      <td>2017-01-27</td>\n",
       "      <td>44.709999</td>\n",
       "      <td>44.23</td>\n",
       "      <td>44.540001</td>\n",
       "      <td>YHOO</td>\n",
       "      <td>4942800</td>\n",
       "      <td>43.930000</td>\n",
       "      <td>0.610001</td>\n",
       "    </tr>\n",
       "    <tr>\n",
       "      <th>3</th>\n",
       "      <td>44.549999</td>\n",
       "      <td>44.549999</td>\n",
       "      <td>2017-01-26</td>\n",
       "      <td>45.080002</td>\n",
       "      <td>44.400002</td>\n",
       "      <td>44.830002</td>\n",
       "      <td>YHOO</td>\n",
       "      <td>9972700</td>\n",
       "      <td>44.419998</td>\n",
       "      <td>0.410004</td>\n",
       "    </tr>\n",
       "    <tr>\n",
       "      <th>4</th>\n",
       "      <td>44.939999</td>\n",
       "      <td>44.939999</td>\n",
       "      <td>2017-01-25</td>\n",
       "      <td>45.00</td>\n",
       "      <td>44.09</td>\n",
       "      <td>44.110001</td>\n",
       "      <td>YHOO</td>\n",
       "      <td>11082400</td>\n",
       "      <td>44.549999</td>\n",
       "      <td>-0.439998</td>\n",
       "    </tr>\n",
       "  </tbody>\n",
       "</table>\n",
       "</div>"
      ],
      "text/plain": [
       "   Adj_Close      Close        Date       High        Low       Open Symbol  \\\n",
       "0      44.07  44.070000  2017-01-31  44.150002  43.669998  43.779999   YHOO   \n",
       "1      43.93  43.930000  2017-01-30  44.220001  43.709999  44.220001   YHOO   \n",
       "2  44.419998  44.419998  2017-01-27  44.709999      44.23  44.540001   YHOO   \n",
       "3  44.549999  44.549999  2017-01-26  45.080002  44.400002  44.830002   YHOO   \n",
       "4  44.939999  44.939999  2017-01-25      45.00      44.09  44.110001   YHOO   \n",
       "\n",
       "     Volume  prevClose  openDiff  \n",
       "0   5153500        NaN       NaN  \n",
       "1   6903900  44.070000  0.150001  \n",
       "2   4942800  43.930000  0.610001  \n",
       "3   9972700  44.419998  0.410004  \n",
       "4  11082400  44.549999 -0.439998  "
      ]
     },
     "execution_count": 29,
     "metadata": {},
     "output_type": "execute_result"
    }
   ],
   "source": [
    "stock_hist.head()"
   ]
  },
  {
   "cell_type": "code",
   "execution_count": null,
   "metadata": {
    "collapsed": true
   },
   "outputs": [],
   "source": []
  }
 ],
 "metadata": {
  "kernelspec": {
   "display_name": "Python 3",
   "language": "python",
   "name": "python3"
  },
  "language_info": {
   "codemirror_mode": {
    "name": "ipython",
    "version": 3
   },
   "file_extension": ".py",
   "mimetype": "text/x-python",
   "name": "python",
   "nbconvert_exporter": "python",
   "pygments_lexer": "ipython3",
   "version": "3.5.3"
  }
 },
 "nbformat": 4,
 "nbformat_minor": 2
}
